{
 "cells": [
  {
   "cell_type": "code",
   "execution_count": 1,
   "id": "dbcf40bf-b184-4c95-a68b-f8c487ee09ca",
   "metadata": {},
   "outputs": [],
   "source": [
    "import sys\n",
    "#sys.path.append(\"/home1/09528/sumbarger/simulation_analysis_tools/\")  \n",
    "### The line below is for working on this locally. Delete when back on stampede\n",
    "sys.path.append(\"/Users/stevenumbarger/Research/Sarah/Jupyter_notebooks/GMC_project/Stampede/simulation_analysis_tools/\")\n",
    "import numpy as np\n",
    "import math\n",
    "import gizmo_analysis as gizmo  \n",
    "import utilities as ut\n",
    "from matplotlib import pylab as plt\n",
    "from matplotlib.colors import LogNorm\n",
    "from scipy import stats\n",
    "from matplotlib import pyplot\n",
    "import pickle\n",
    "import matplotlib.patches as patches\n",
    "from fof_analysis import fof\n",
    "import pandas as pd\n",
    "\n",
    "import matplotlib\n",
    "import matplotlib.pyplot as plt\n",
    "import matplotlib.patches as mpatches\n",
    "from matplotlib.colors import ListedColormap\n",
    "\n",
    "from mpl_toolkits.mplot3d import Axes3D\n",
    "from matplotlib.animation import FuncAnimation\n",
    "\n",
    "### Uncomment for making graphs more readable\n",
    "#font = {'size'   : 20}\n",
    "#matplotlib.rc('font', **font)\n",
    "#matplotlib.rc('xtick', labelsize=20) \n",
    "#matplotlib.rc('ytick', labelsize=20) \n",
    "#matplotlib.rcParams['figure.dpi'] = 300\n",
    "\n",
    "#Lines below ensure that we can visualize all rows and columns in large data frames\n",
    "pd.set_option('display.max_columns', 100) \n",
    "pd.set_option('display.max_rows', 100)\n",
    "pd.set_option('display.max_colwidth', 100)"
   ]
  },
  {
   "cell_type": "code",
   "execution_count": 2,
   "id": "235c058a-dcdf-4c5a-8741-cfbd7f41786c",
   "metadata": {},
   "outputs": [],
   "source": [
    "b_parsec    = 4 #mess with this\n",
    "b_kpc       = b_parsec / 1000.\n",
    "ncut_min    = 5 \n",
    "age_cut_Myr = 3 #Myr\n",
    "age_cut_Gyr = age_cut_Myr / 1000. #Gyr\n",
    "softening   = 4. #res 7100\n",
    "snaps = np.arange(640,643,1)\n",
    "snap644 = 644\n",
    "\n",
    "simname     = 'm12m_res7100'\n",
    "#simdir      = '/scratch/projects/xsede/GalaxiesOnFIRE/cr_suite/m12m_r7100/mhdcv/1Myr'\n",
    "#simdir      = '/scratch/projects/xsede/GalaxiesOnFIRE/metal_diffusion/m12m_r7100/1Myr' #simdir that works for m12m but not accurate\n",
    "#simdir      = '/scratch/projects/xsede/GalaxiesOnFIRE/cr_suite/m12m_r7100/mhdcv/1Myr/'\n",
    "#simdir     = '/scratch/projects/xsede/GalaxiesOnFIRE/cr_suite/m12i_r7100/mhdcv/1Myr/fire2/'\n",
    "### The line below is for working locally\n",
    "simdir      = '/Users/stevenumbarger/Research/Sarah/Jupyter_notebooks/GMC_project/sims/m12i_res7100'"
   ]
  },
  {
   "cell_type": "code",
   "execution_count": 3,
   "id": "765c1b18-d962-4e0e-8172-e1cecb2eaace",
   "metadata": {
    "tags": []
   },
   "outputs": [
    {
     "name": "stdout",
     "output_type": "stream",
     "text": [
      "\n",
      "# in utilities.simulation.Snapshot():\n",
      "* reading:  Users/stevenumbarger/Research/Sarah/Jupyter_notebooks/GMC_project/sims/m12i_res7100/snapshot_times.txt\n",
      "\n",
      "  using snapshot index = 640, redshift = 0.004\n",
      "\n",
      "\n",
      "# in gizmo_analysis.gizmo_io.Read():\n",
      "* reading header from:  Users/stevenumbarger/Research/Sarah/Jupyter_notebooks/GMC_project/sims/m12i_res7100/output/snapshot_640/snapshot_640.0.hdf5\n",
      "  snapshot contains the following number of particles:\n",
      "    dark      (id = 1): 70514272 particles\n",
      "    dark2     (id = 2): 5513331 particles\n",
      "    gas       (id = 0): 55650202 particles\n",
      "    star      (id = 4): 15338362 particles\n",
      "    blackhole (id = 5): 0 particles\n",
      "\n",
      "* reading the following\n",
      "  species: ['star', 'gas']\n",
      "  gas properties: ['acceleration', 'density', 'electron.fraction', 'hydrogen.neutral.fraction', 'id', 'id.child', 'id.generation', 'magnetic.field', 'mass', 'massfraction', 'photon.energy', 'position', 'potential', 'sfr', 'size', 'temperature', 'velocity']\n",
      "\n",
      "* reading particles from:\n",
      "    snapshot_640.0.hdf5\n",
      "    snapshot_640.1.hdf5\n",
      "    snapshot_640.2.hdf5\n",
      "    snapshot_640.3.hdf5\n",
      "\n",
      "! cannot find MUSIC config file:  Users/stevenumbarger/Research/Sarah/Jupyter_notebooks/GMC_project/sims/m12i_res7100/*/*.conf\n",
      "! missing cosmological parameters, assuming the following (from AGORA):\n",
      "  assuming omega_baryon = 0.0455\n",
      "  assuming sigma_8 = 0.807\n",
      "  assuming n_s = 0.961\n",
      "\n",
      "* checking sanity of particle properties\n",
      "! warning: star id.child [min, max] = [0.000, 4.294e9]\n",
      "! warning: gas id.child [min, max] = [0.000, 4.290e9]\n",
      "\n",
      "  cannot read file containing hosts coordinates\n",
      "  instead will assign hosts via iterative zoom on particle mass\n",
      "\n",
      "# in utilities.particle.get_center_positions():\n",
      "* assigning position for 1 center/host, via iterative zoom-in on star particle mass\n",
      "  host1 position = (41847.68, 44102.54, 46279.33) [kpc comoving]\n",
      "\n",
      "# in utilities.particle.get_center_velocities():\n",
      "* assigning velocity for 1 center/host, weighting star particles by mass\n",
      "  host1 velocity = (-48.9, 82.0, 90.3) [km / s]\n",
      "\n",
      "\n",
      "# in utilities.particle.get_principal_axes():\n",
      "* assigning rotation tensor for 1 host\n",
      "  using star particles at distance < 10.0 kpc\n",
      "  using distance < 7.8 kpc that encloses 90% of mass\n",
      "  using youngest 25% of star particles\n",
      "  host1: using star particles with age = [0.000, 3.138] Gyr\n",
      "  host1: axis ratios: min/maj = 0.177, min/med = 0.191, med/maj = 0.927\n",
      "\n"
     ]
    }
   ],
   "source": [
    "part640 = gizmo.io.Read.read_snapshots(['star', 'gas'],'index', snaps[0], simulation_directory=simdir, assign_hosts_rotation=True, assign_hosts=True)"
   ]
  },
  {
   "cell_type": "code",
   "execution_count": 4,
   "id": "d736b9d0-e1ab-452b-a1de-291edc04478f",
   "metadata": {},
   "outputs": [],
   "source": [
    "#Loading snapshot 640 data into arrays\n",
    "\n",
    "x_640             = part640['star'].prop('host.distance.principal.cartesian')[:,0]\n",
    "y_640             = part640['star'].prop('host.distance.principal.cartesian')[:,1]\n",
    "z_640             = part640['star'].prop('host.distance.principal.cartesian')[:,2]\n",
    "rxyz_640          = part640['star'].prop('host.distance.total')\n",
    "vx_640            = part640['star'].prop('host.velocity.principal.cartesian')[:,0]\n",
    "vy_640            = part640['star'].prop('host.velocity.principal.cartesian')[:,1]\n",
    "vz_640            = part640['star'].prop('host.velocity.principal.cartesian')[:,2]\n",
    "age_640           = part640['star'].prop('age')\n",
    "mass_640          = part640['star'].prop('mass')\n",
    "feh_640           = part640['star'].prop('metallicity.fe')\n",
    "ids_640           = part640['star']['id']\n",
    "id_generation640  = part640['star']['id.generation']\n",
    "id_child640       = part640['star']['id.child']"
   ]
  },
  {
   "cell_type": "code",
   "execution_count": 5,
   "id": "f565dc57-6b69-4623-9c51-b461ed1824fb",
   "metadata": {},
   "outputs": [
    {
     "name": "stdout",
     "output_type": "stream",
     "text": [
      "linking length  0.004\n",
      "min number particles in group  5\n",
      "0.02405381202697754 seconds\n",
      "number of groups 4\n",
      "max number in a group 8\n"
     ]
    }
   ],
   "source": [
    "#indices of stars we want to run fof on (to find star clusters)\n",
    "si = np.where((age_640 <= age_cut_Gyr) & (rxyz_640 < 20) & (abs(z_640) < 1.5))\n",
    "#Run fof\n",
    "ind, xcm, ycm, zcm, mtot, grpid, r90, r50, rmax =fof.find(x_640[si],y_640[si],z_640[si], b=b_kpc, mass=mass_640[si], ncut=ncut_min)"
   ]
  },
  {
   "cell_type": "code",
   "execution_count": 6,
   "id": "91db9000-40da-43cf-a6f9-d50c49eb9c0b",
   "metadata": {},
   "outputs": [],
   "source": [
    "#This is only for young stars at snapshot_640\n",
    "xyoungstars    = x_640[si]\n",
    "yyoungstars    = y_640[si]\n",
    "zyoungstars    = z_640[si]\n",
    "ageyoungstars  = age_640[si]*1000. #age in Myr\n",
    "massyoungstars = mass_640[si]\n",
    "idsyoungstars  = ids_640[si]\n",
    "\n",
    "vxyoungstars   = vx_640[si]\n",
    "vyyoungstars   = vy_640[si]\n",
    "vzyoungstars   = vz_640[si]"
   ]
  },
  {
   "cell_type": "code",
   "execution_count": 7,
   "id": "39305c69-4c9e-4a67-a00e-ec69d816b094",
   "metadata": {},
   "outputs": [],
   "source": [
    "#Saving information for each of the 4 clusters found at step 640\n",
    "x_singlecluster_1    = xyoungstars[ind[0]] \n",
    "y_singlecluster_1    = yyoungstars[ind[0]]\n",
    "z_singlecluster_1    = zyoungstars[ind[0]]\n",
    "vx_singlecluster_1   = vxyoungstars[ind[0]]\n",
    "vy_singlecluster_1   = vyyoungstars[ind[0]]\n",
    "vz_singlecluster_1   = vzyoungstars[ind[0]]\n",
    "age_singlecluster_1  = ageyoungstars[ind[0]]\n",
    "mass_singlecluster_1 = massyoungstars[ind[0]]\n",
    "ids_singlecluster_1  = idsyoungstars[ind[0]]    \n",
    "xcm_singlecluster_1  = xcm[0]\n",
    "ycm_singlecluster_1  = ycm[0]\n",
    "zcm_singlecluster_1  = zcm[0]\n",
    "mtot_singlecluster_1 = mtot[0]\n",
    "grpid_singlcluster_1 = grpid[0]\n",
    "r90_singlecluster_1  = r90[0]\n",
    "r50_singlecluster_1  = r50[0]\n",
    "rmax_singlecluster_1 = rmax[0]\n",
    "\n",
    "x_singlecluster_2    = xyoungstars[ind[1]] \n",
    "y_singlecluster_2    = yyoungstars[ind[1]]\n",
    "z_singlecluster_2    = zyoungstars[ind[1]]\n",
    "vx_singlecluster_2   = vxyoungstars[ind[1]]\n",
    "vy_singlecluster_2   = vyyoungstars[ind[1]]\n",
    "vz_singlecluster_2   = vzyoungstars[ind[1]]\n",
    "age_singlecluster_2  = ageyoungstars[ind[1]]\n",
    "mass_singlecluster_2 = massyoungstars[ind[1]]\n",
    "ids_singlecluster_2  = idsyoungstars[ind[1]]    \n",
    "xcm_singlecluster_2  = xcm[1]\n",
    "ycm_singlecluster_2  = ycm[1]\n",
    "zcm_singlecluster_2  = zcm[1]\n",
    "mtot_singlecluster_2 = mtot[1]\n",
    "grpid_singlcluster_2 = grpid[1]\n",
    "r90_singlecluster_2  = r90[1]\n",
    "r50_singlecluster_2  = r50[1]\n",
    "rmax_singlecluster_2 = rmax[1]\n",
    "\n",
    "x_singlecluster_3    = xyoungstars[ind[2]] \n",
    "y_singlecluster_3    = yyoungstars[ind[2]]\n",
    "z_singlecluster_3    = zyoungstars[ind[2]]\n",
    "vx_singlecluster_3   = vxyoungstars[ind[2]]\n",
    "vy_singlecluster_3   = vyyoungstars[ind[2]]\n",
    "vz_singlecluster_3   = vzyoungstars[ind[2]]\n",
    "age_singlecluster_3  = ageyoungstars[ind[2]]\n",
    "mass_singlecluster_3 = massyoungstars[ind[2]]\n",
    "ids_singlecluster_3  = idsyoungstars[ind[2]]    \n",
    "xcm_singlecluster_3  = xcm[2]\n",
    "ycm_singlecluster_3  = ycm[2]\n",
    "zcm_singlecluster_3  = zcm[2]\n",
    "mtot_singlecluster_3 = mtot[2]\n",
    "grpid_singlcluster_3 = grpid[2]\n",
    "r90_singlecluster_3  = r90[2]\n",
    "r50_singlecluster_3  = r50[2]\n",
    "rmax_singlecluster_3 = rmax[2]\n",
    "\n",
    "x_singlecluster_4    = xyoungstars[ind[3]] \n",
    "y_singlecluster_4    = yyoungstars[ind[3]]\n",
    "z_singlecluster_4    = zyoungstars[ind[3]]\n",
    "vx_singlecluster_4   = vxyoungstars[ind[3]]\n",
    "vy_singlecluster_4   = vyyoungstars[ind[3]]\n",
    "vz_singlecluster_4   = vzyoungstars[ind[3]]\n",
    "age_singlecluster_4  = ageyoungstars[ind[3]]\n",
    "mass_singlecluster_4 = massyoungstars[ind[3]]\n",
    "ids_singlecluster_4  = idsyoungstars[ind[3]]    \n",
    "xcm_singlecluster_4  = xcm[3]\n",
    "ycm_singlecluster_4  = ycm[3]\n",
    "zcm_singlecluster_4  = zcm[3]\n",
    "mtot_singlecluster_4 = mtot[3]\n",
    "grpid_singlcluster_4 = grpid[3]\n",
    "r90_singlecluster_4  = r90[3]\n",
    "r50_singlecluster_4  = r50[3]\n",
    "rmax_singlecluster_4 = rmax[3]"
   ]
  },
  {
   "cell_type": "code",
   "execution_count": 8,
   "id": "d73d6e65-27be-4941-a6c2-beaa90eed91e",
   "metadata": {},
   "outputs": [],
   "source": [
    "position = part640['gas'].prop('host.distance.principal') #setting variable for position\n",
    "index = np.where(part640['gas'].prop('temperature') < 10**3)\n",
    "gas_x640 = position[index][:,0] # the x position\n",
    "gas_y640 = position[index][:,1] # the y position\n",
    "gas_z640 = position[index][:,2] # the z position"
   ]
  },
  {
   "cell_type": "code",
   "execution_count": 9,
   "id": "9fee5fd9-8b73-44f1-91d8-33393960fc0b",
   "metadata": {},
   "outputs": [
    {
     "data": {
      "image/png": "[encoded data removed]",
      "text/plain": [
       "<Figure size 640x480 with 1 Axes>"
      ]
     },
     "metadata": {},
     "output_type": "display_data"
    }
   ],
   "source": [
    "plt.style.use('default') #makes the background the default python\n",
    "\n",
    "my_size = 15\n",
    "fig1, ax = plt.subplots()\n",
    "\n",
    "### Gas cells\n",
    "ax.hist2d(gas_x640, gas_y640, bins=22000, norm=LogNorm(), cmap='viridis') #make first 2D histogram\n",
    "\n",
    "ax.set_xlabel(\"X (kpc)\", fontsize = my_size) #sets x axis label\n",
    "ax.set_ylabel(\"Y (kpc)\", fontsize = my_size) #sets y axis label\n",
    "\n",
    "ax.set_aspect('equal') #sets apsect ratio to be equal\n",
    "\n",
    "ax.set_xlim([-15, 15]) #sets x limit at -15 to 15\n",
    "ax.set_ylim([-15, 15]) #sets y limit at -15 to 15\n",
    "\n",
    "plt.show() #shows plot"
   ]
  },
  {
   "cell_type": "code",
   "execution_count": 10,
   "id": "ae8d1b96-ae73-4e63-aa6b-d2d603bd3a87",
   "metadata": {},
   "outputs": [
    {
     "data": {
      "image/png": "[encoded data removed]",
      "text/plain": [
       "<Figure size 640x480 with 1 Axes>"
      ]
     },
     "metadata": {},
     "output_type": "display_data"
    }
   ],
   "source": [
    "plt.style.use('default') #makes the background the default python\n",
    "\n",
    "my_size = 15\n",
    "fig1, ax = plt.subplots()\n",
    "\n",
    "### Gas cells\n",
    "ax.hist2d(gas_x640, gas_y640, bins=20000, norm=LogNorm(), cmap='viridis') #make first 2D histogram\n",
    "\n",
    "### 1st star cluster\n",
    "    \n",
    "ax.scatter(x_singlecluster_1, y_singlecluster_1, facecolor=\"yellow\", s=100, alpha=1, marker=r'*', \n",
    "           label=\"star cluster\", edgecolor='black', linewidth=1.5)\n",
    "\n",
    "\n",
    "### 2nd star cluster\n",
    "    \n",
    "ax.scatter(x_singlecluster_2, y_singlecluster_2, facecolor=\"yellow\", s=100, alpha=1, marker=r'*', \n",
    "            edgecolor='black', linewidth=1.5)\n",
    "\n",
    "\n",
    "### 3rd star cluster\n",
    "    \n",
    "ax.scatter(x_singlecluster_3, y_singlecluster_3, facecolor=\"yellow\", s=100, alpha=1, marker=r'*', \n",
    "            edgecolor='black', linewidth=1.5)\n",
    "\n",
    "\n",
    "### 4th star cluster\n",
    "    \n",
    "ax.scatter(x_singlecluster_4, y_singlecluster_4, facecolor=\"yellow\", s=100, alpha=1, marker=r'*', \n",
    "            edgecolor='black', linewidth=1.5)\n",
    "\n",
    "ax.set_xlabel(\"X (kpc)\", fontsize = my_size) #sets x axis label\n",
    "ax.set_ylabel(\"Y (kpc)\", fontsize = my_size) #sets y axis label\n",
    "\n",
    "ax.set_aspect('equal') #sets apsect ratio to be equal\n",
    "\n",
    "ax.set_xlim([-15, 15]) #sets x limit at -15 to 15\n",
    "ax.set_ylim([-15, 15]) #sets y limit at -15 to 15\n",
    "\n",
    "plt.show() #shows plot"
   ]
  },
  {
   "cell_type": "code",
   "execution_count": 10,
   "id": "35bcdc74-40c3-4616-a427-a49c2ff2cf48",
   "metadata": {},
   "outputs": [
    {
     "data": {
      "image/png": "[encoded data removed]",
      "text/plain": [
       "<Figure size 640x480 with 2 Axes>"
      ]
     },
     "metadata": {},
     "output_type": "display_data"
    }
   ],
   "source": [
    "plt.style.use('default') #makes the background the default python\n",
    "\n",
    "my_size = 15\n",
    "fig1, ax = plt.subplots()\n",
    "\n",
    "gas_density = part640['gas'].prop('density')\n",
    "\n",
    "### Gas cells\n",
    "gas_hist = ax.hist2d(gas_x640, gas_y640, bins=20000, norm=LogNorm(), cmap='viridis') #make first 2D histogram\n",
    "\n",
    "### 1st star cluster\n",
    "    \n",
    "ax.scatter(x_singlecluster_1, y_singlecluster_1, facecolor=\"yellow\", s=100, alpha=1, marker=r'*', \n",
    "           label=\"star cluster\", edgecolor='black', linewidth=1.5)\n",
    "\n",
    "\n",
    "### 2nd star cluster\n",
    "    \n",
    "ax.scatter(x_singlecluster_2, y_singlecluster_2, facecolor=\"yellow\", s=100, alpha=1, marker=r'*', \n",
    "            edgecolor='black', linewidth=1.5)\n",
    "\n",
    "\n",
    "### 3rd star cluster\n",
    "    \n",
    "ax.scatter(x_singlecluster_3, y_singlecluster_3, facecolor=\"yellow\", s=100, alpha=1, marker=r'*', \n",
    "            edgecolor='black', linewidth=1.5)\n",
    "\n",
    "\n",
    "### 4th star cluster\n",
    "    \n",
    "ax.scatter(x_singlecluster_4, y_singlecluster_4, facecolor=\"yellow\", s=100, alpha=1, marker=r'*', \n",
    "            edgecolor='black', linewidth=1.5)\n",
    "\n",
    "ax.set_xlabel(\"X (kpc)\", fontsize = my_size) #sets x axis label\n",
    "ax.set_ylabel(\"Y (kpc)\", fontsize = my_size) #sets y axis label\n",
    "\n",
    "# Create colorbar based on the density of the gas\n",
    "cbar = plt.colorbar(gas_hist[3], ax=ax)  # Using the colorbar associated with the 2D histogram\n",
    "cbar.set_label('Density of Cold Gas', fontsize=my_size)\n",
    "cbar.ax.tick_params(labelsize=my_size)\n",
    "\n",
    "ax.set_aspect('equal') #sets apsect ratio to be equal\n",
    "\n",
    "ax.set_xlim([0, 5]) #sets x limit at 0 to 5\n",
    "ax.set_ylim([0, 5]) #sets y limit at 0 to 5\n",
    "\n",
    "plt.show() #shows plot"
   ]
  },
  {
   "cell_type": "code",
   "execution_count": 11,
   "id": "1ad12a9b-356f-4a33-9baf-f7f0dc38dcce",
   "metadata": {},
   "outputs": [
    {
     "data": {
      "text/plain": [
       "dict_keys(['acceleration', 'position', 'density', 'electron.fraction', 'temperature', 'magnetic.field', 'mass', 'massfraction', 'hydrogen.neutral.fraction', 'id.child', 'id.generation', 'id', 'photon.energy', 'potential', 'size', 'sfr', 'velocity'])"
      ]
     },
     "execution_count": 11,
     "metadata": {},
     "output_type": "execute_result"
    }
   ],
   "source": [
    "part640['gas'].keys()"
   ]
  },
  {
   "cell_type": "code",
   "execution_count": null,
   "id": "aea0daf6-1267-4797-9774-cc4d1cec3fb2",
   "metadata": {},
   "outputs": [],
   "source": []
  }
 ],
 "metadata": {
  "kernelspec": {
   "display_name": "Python 3 (ipykernel)",
   "language": "python",
   "name": "python3"
  },
  "language_info": {
   "codemirror_mode": {
    "name": "ipython",
    "version": 3
   },
   "file_extension": ".py",
   "mimetype": "text/x-python",
   "name": "python",
   "nbconvert_exporter": "python",
   "pygments_lexer": "ipython3",
   "version": "3.10.9"
  }
 },
 "nbformat": 4,
 "nbformat_minor": 5
}
